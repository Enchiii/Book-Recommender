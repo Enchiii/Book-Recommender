{
 "cells": [
  {
   "metadata": {},
   "cell_type": "markdown",
   "source": "### DATA LOADING",
   "id": "d7b82476b91503a7"
  },
  {
   "metadata": {
    "ExecuteTime": {
     "end_time": "2025-02-02T08:49:10.502902Z",
     "start_time": "2025-02-02T08:49:10.308919Z"
    }
   },
   "cell_type": "code",
   "source": [
    "import numpy as np\n",
    "import pandas as pd"
   ],
   "id": "f6fb0b09f0684434",
   "outputs": [],
   "execution_count": 1
  },
  {
   "metadata": {
    "ExecuteTime": {
     "end_time": "2025-02-02T08:49:10.506274Z",
     "start_time": "2025-02-02T08:49:10.503757Z"
    }
   },
   "cell_type": "code",
   "source": [
    "books_path = './data/BX-Books.csv'\n",
    "books_ratings_path = './data/BX-Book-Ratings.csv'\n",
    "# users_path = './data/BX-Users.csv'"
   ],
   "id": "fb160f2ecc643feb",
   "outputs": [],
   "execution_count": 2
  },
  {
   "metadata": {
    "ExecuteTime": {
     "end_time": "2025-02-02T08:49:11.519230Z",
     "start_time": "2025-02-02T08:49:10.506977Z"
    }
   },
   "cell_type": "code",
   "source": [
    "books_df = pd.read_csv(books_path, encoding=\"latin-1\", sep=\";\", on_bad_lines=\"skip\", low_memory=False, na_values='NULL')\n",
    "books_ratings_df = pd.read_csv(books_ratings_path, encoding=\"latin-1\", sep=\";\", on_bad_lines=\"skip\", na_values='NULL')\n",
    "# users_df = pd.read_csv(users_path, encoding=\"latin-1\", sep=\";\", on_bad_lines=\"skip\", na_values='NULL')"
   ],
   "id": "ee9eec148305319a",
   "outputs": [],
   "execution_count": 3
  },
  {
   "metadata": {
    "ExecuteTime": {
     "end_time": "2025-02-02T08:49:11.563579Z",
     "start_time": "2025-02-02T08:49:11.520250Z"
    }
   },
   "cell_type": "code",
   "source": "books_df.isna().sum()",
   "id": "306dfc15a9f2dbca",
   "outputs": [
    {
     "data": {
      "text/plain": [
       "ISBN                   0\n",
       "Book-Title             0\n",
       "Book-Author            2\n",
       "Year-Of-Publication    0\n",
       "Publisher              2\n",
       "Image-URL-S            0\n",
       "Image-URL-M            0\n",
       "Image-URL-L            3\n",
       "dtype: int64"
      ]
     },
     "execution_count": 4,
     "metadata": {},
     "output_type": "execute_result"
    }
   ],
   "execution_count": 4
  },
  {
   "metadata": {
    "ExecuteTime": {
     "end_time": "2025-02-02T08:49:11.588259Z",
     "start_time": "2025-02-02T08:49:11.564220Z"
    }
   },
   "cell_type": "code",
   "source": "books_ratings_df.isna().sum()",
   "id": "9d0da9d65d02ed2d",
   "outputs": [
    {
     "data": {
      "text/plain": [
       "User-ID        0\n",
       "ISBN           0\n",
       "Book-Rating    0\n",
       "dtype: int64"
      ]
     },
     "execution_count": 5,
     "metadata": {},
     "output_type": "execute_result"
    }
   ],
   "execution_count": 5
  },
  {
   "metadata": {
    "ExecuteTime": {
     "end_time": "2025-02-02T08:49:11.719167Z",
     "start_time": "2025-02-02T08:49:11.588914Z"
    }
   },
   "cell_type": "code",
   "source": [
    "books_ratings_df['User-ID'] = books_ratings_df['User-ID'].astype(str)\n",
    "books_ratings_df.head() "
   ],
   "id": "2c8bf9a38c9027ff",
   "outputs": [
    {
     "data": {
      "text/plain": [
       "  User-ID        ISBN  Book-Rating\n",
       "0  276725  034545104X            0\n",
       "1  276726  0155061224            5\n",
       "2  276727  0446520802            0\n",
       "3  276729  052165615X            3\n",
       "4  276729  0521795028            6"
      ],
      "text/html": [
       "<div>\n",
       "<style scoped>\n",
       "    .dataframe tbody tr th:only-of-type {\n",
       "        vertical-align: middle;\n",
       "    }\n",
       "\n",
       "    .dataframe tbody tr th {\n",
       "        vertical-align: top;\n",
       "    }\n",
       "\n",
       "    .dataframe thead th {\n",
       "        text-align: right;\n",
       "    }\n",
       "</style>\n",
       "<table border=\"1\" class=\"dataframe\">\n",
       "  <thead>\n",
       "    <tr style=\"text-align: right;\">\n",
       "      <th></th>\n",
       "      <th>User-ID</th>\n",
       "      <th>ISBN</th>\n",
       "      <th>Book-Rating</th>\n",
       "    </tr>\n",
       "  </thead>\n",
       "  <tbody>\n",
       "    <tr>\n",
       "      <th>0</th>\n",
       "      <td>276725</td>\n",
       "      <td>034545104X</td>\n",
       "      <td>0</td>\n",
       "    </tr>\n",
       "    <tr>\n",
       "      <th>1</th>\n",
       "      <td>276726</td>\n",
       "      <td>0155061224</td>\n",
       "      <td>5</td>\n",
       "    </tr>\n",
       "    <tr>\n",
       "      <th>2</th>\n",
       "      <td>276727</td>\n",
       "      <td>0446520802</td>\n",
       "      <td>0</td>\n",
       "    </tr>\n",
       "    <tr>\n",
       "      <th>3</th>\n",
       "      <td>276729</td>\n",
       "      <td>052165615X</td>\n",
       "      <td>3</td>\n",
       "    </tr>\n",
       "    <tr>\n",
       "      <th>4</th>\n",
       "      <td>276729</td>\n",
       "      <td>0521795028</td>\n",
       "      <td>6</td>\n",
       "    </tr>\n",
       "  </tbody>\n",
       "</table>\n",
       "</div>"
      ]
     },
     "execution_count": 6,
     "metadata": {},
     "output_type": "execute_result"
    }
   ],
   "execution_count": 6
  },
  {
   "metadata": {
    "ExecuteTime": {
     "end_time": "2025-02-02T08:49:11.723247Z",
     "start_time": "2025-02-02T08:49:11.719772Z"
    }
   },
   "cell_type": "code",
   "source": [
    "ISBN_df = books_df['ISBN'].to_frame()\n",
    "ISBN_df.head()"
   ],
   "id": "973b2e3e63434ffc",
   "outputs": [
    {
     "data": {
      "text/plain": [
       "         ISBN\n",
       "0  0195153448\n",
       "1  0002005018\n",
       "2  0060973129\n",
       "3  0374157065\n",
       "4  0393045218"
      ],
      "text/html": [
       "<div>\n",
       "<style scoped>\n",
       "    .dataframe tbody tr th:only-of-type {\n",
       "        vertical-align: middle;\n",
       "    }\n",
       "\n",
       "    .dataframe tbody tr th {\n",
       "        vertical-align: top;\n",
       "    }\n",
       "\n",
       "    .dataframe thead th {\n",
       "        text-align: right;\n",
       "    }\n",
       "</style>\n",
       "<table border=\"1\" class=\"dataframe\">\n",
       "  <thead>\n",
       "    <tr style=\"text-align: right;\">\n",
       "      <th></th>\n",
       "      <th>ISBN</th>\n",
       "    </tr>\n",
       "  </thead>\n",
       "  <tbody>\n",
       "    <tr>\n",
       "      <th>0</th>\n",
       "      <td>0195153448</td>\n",
       "    </tr>\n",
       "    <tr>\n",
       "      <th>1</th>\n",
       "      <td>0002005018</td>\n",
       "    </tr>\n",
       "    <tr>\n",
       "      <th>2</th>\n",
       "      <td>0060973129</td>\n",
       "    </tr>\n",
       "    <tr>\n",
       "      <th>3</th>\n",
       "      <td>0374157065</td>\n",
       "    </tr>\n",
       "    <tr>\n",
       "      <th>4</th>\n",
       "      <td>0393045218</td>\n",
       "    </tr>\n",
       "  </tbody>\n",
       "</table>\n",
       "</div>"
      ]
     },
     "execution_count": 7,
     "metadata": {},
     "output_type": "execute_result"
    }
   ],
   "execution_count": 7
  },
  {
   "metadata": {
    "ExecuteTime": {
     "end_time": "2025-02-02T08:49:12.027698Z",
     "start_time": "2025-02-02T08:49:11.723866Z"
    }
   },
   "cell_type": "code",
   "source": [
    "books_with_rating_df = ISBN_df.merge(books_ratings_df, how='left', on='ISBN')\n",
    "books_with_rating_df.head()"
   ],
   "id": "3f7f4fb53a50507b",
   "outputs": [
    {
     "data": {
      "text/plain": [
       "         ISBN User-ID  Book-Rating\n",
       "0  0195153448       2          0.0\n",
       "1  0002005018       8          5.0\n",
       "2  0002005018   11400          0.0\n",
       "3  0002005018   11676          8.0\n",
       "4  0002005018   41385          0.0"
      ],
      "text/html": [
       "<div>\n",
       "<style scoped>\n",
       "    .dataframe tbody tr th:only-of-type {\n",
       "        vertical-align: middle;\n",
       "    }\n",
       "\n",
       "    .dataframe tbody tr th {\n",
       "        vertical-align: top;\n",
       "    }\n",
       "\n",
       "    .dataframe thead th {\n",
       "        text-align: right;\n",
       "    }\n",
       "</style>\n",
       "<table border=\"1\" class=\"dataframe\">\n",
       "  <thead>\n",
       "    <tr style=\"text-align: right;\">\n",
       "      <th></th>\n",
       "      <th>ISBN</th>\n",
       "      <th>User-ID</th>\n",
       "      <th>Book-Rating</th>\n",
       "    </tr>\n",
       "  </thead>\n",
       "  <tbody>\n",
       "    <tr>\n",
       "      <th>0</th>\n",
       "      <td>0195153448</td>\n",
       "      <td>2</td>\n",
       "      <td>0.0</td>\n",
       "    </tr>\n",
       "    <tr>\n",
       "      <th>1</th>\n",
       "      <td>0002005018</td>\n",
       "      <td>8</td>\n",
       "      <td>5.0</td>\n",
       "    </tr>\n",
       "    <tr>\n",
       "      <th>2</th>\n",
       "      <td>0002005018</td>\n",
       "      <td>11400</td>\n",
       "      <td>0.0</td>\n",
       "    </tr>\n",
       "    <tr>\n",
       "      <th>3</th>\n",
       "      <td>0002005018</td>\n",
       "      <td>11676</td>\n",
       "      <td>8.0</td>\n",
       "    </tr>\n",
       "    <tr>\n",
       "      <th>4</th>\n",
       "      <td>0002005018</td>\n",
       "      <td>41385</td>\n",
       "      <td>0.0</td>\n",
       "    </tr>\n",
       "  </tbody>\n",
       "</table>\n",
       "</div>"
      ]
     },
     "execution_count": 8,
     "metadata": {},
     "output_type": "execute_result"
    }
   ],
   "execution_count": 8
  },
  {
   "metadata": {
    "ExecuteTime": {
     "end_time": "2025-02-02T08:49:12.157494Z",
     "start_time": "2025-02-02T08:49:12.028336Z"
    }
   },
   "cell_type": "code",
   "source": [
    "books_with_rating_df = books_with_rating_df.dropna(subset=['ISBN', 'User-ID'])\n",
    "books_with_rating_df.head()"
   ],
   "id": "4ea5a3414d8e2465",
   "outputs": [
    {
     "data": {
      "text/plain": [
       "         ISBN User-ID  Book-Rating\n",
       "0  0195153448       2          0.0\n",
       "1  0002005018       8          5.0\n",
       "2  0002005018   11400          0.0\n",
       "3  0002005018   11676          8.0\n",
       "4  0002005018   41385          0.0"
      ],
      "text/html": [
       "<div>\n",
       "<style scoped>\n",
       "    .dataframe tbody tr th:only-of-type {\n",
       "        vertical-align: middle;\n",
       "    }\n",
       "\n",
       "    .dataframe tbody tr th {\n",
       "        vertical-align: top;\n",
       "    }\n",
       "\n",
       "    .dataframe thead th {\n",
       "        text-align: right;\n",
       "    }\n",
       "</style>\n",
       "<table border=\"1\" class=\"dataframe\">\n",
       "  <thead>\n",
       "    <tr style=\"text-align: right;\">\n",
       "      <th></th>\n",
       "      <th>ISBN</th>\n",
       "      <th>User-ID</th>\n",
       "      <th>Book-Rating</th>\n",
       "    </tr>\n",
       "  </thead>\n",
       "  <tbody>\n",
       "    <tr>\n",
       "      <th>0</th>\n",
       "      <td>0195153448</td>\n",
       "      <td>2</td>\n",
       "      <td>0.0</td>\n",
       "    </tr>\n",
       "    <tr>\n",
       "      <th>1</th>\n",
       "      <td>0002005018</td>\n",
       "      <td>8</td>\n",
       "      <td>5.0</td>\n",
       "    </tr>\n",
       "    <tr>\n",
       "      <th>2</th>\n",
       "      <td>0002005018</td>\n",
       "      <td>11400</td>\n",
       "      <td>0.0</td>\n",
       "    </tr>\n",
       "    <tr>\n",
       "      <th>3</th>\n",
       "      <td>0002005018</td>\n",
       "      <td>11676</td>\n",
       "      <td>8.0</td>\n",
       "    </tr>\n",
       "    <tr>\n",
       "      <th>4</th>\n",
       "      <td>0002005018</td>\n",
       "      <td>41385</td>\n",
       "      <td>0.0</td>\n",
       "    </tr>\n",
       "  </tbody>\n",
       "</table>\n",
       "</div>"
      ]
     },
     "execution_count": 9,
     "metadata": {},
     "output_type": "execute_result"
    }
   ],
   "execution_count": 9
  },
  {
   "metadata": {
    "ExecuteTime": {
     "end_time": "2025-02-02T08:49:12.167536Z",
     "start_time": "2025-02-02T08:49:12.159147Z"
    }
   },
   "cell_type": "code",
   "source": [
    "books_df = books_df[['ISBN', 'Book-Title', 'Book-Author', 'Year-Of-Publication']]\n",
    "books_df.dtypes"
   ],
   "id": "766dacc695241a5e",
   "outputs": [
    {
     "data": {
      "text/plain": [
       "ISBN                   object\n",
       "Book-Title             object\n",
       "Book-Author            object\n",
       "Year-Of-Publication    object\n",
       "dtype: object"
      ]
     },
     "execution_count": 10,
     "metadata": {},
     "output_type": "execute_result"
    }
   ],
   "execution_count": 10
  },
  {
   "metadata": {},
   "cell_type": "markdown",
   "source": "### KNN MODEL",
   "id": "436b3f03004334e7"
  },
  {
   "metadata": {
    "ExecuteTime": {
     "end_time": "2025-02-02T08:49:13.127398Z",
     "start_time": "2025-02-02T08:49:12.168174Z"
    }
   },
   "cell_type": "code",
   "source": [
    "from scipy.sparse import csr_matrix\n",
    "from sklearn.neighbors import NearestNeighbors\n",
    "\n",
    "df = books_with_rating_df.copy()\n",
    "\n",
    "df['book_code'] = df['ISBN'].astype('category').cat.codes\n",
    "df['user_code'] = df['User-ID'].astype('category').cat.codes\n",
    "\n",
    "ratings = df[\"Book-Rating\"].values\n",
    "\n",
    "sparse_book_user_matrix = csr_matrix((ratings, (df['user_code'], df['book_code'])))"
   ],
   "id": "8cd1bbd5d874201e",
   "outputs": [],
   "execution_count": 11
  },
  {
   "metadata": {
    "ExecuteTime": {
     "end_time": "2025-02-02T08:49:13.135903Z",
     "start_time": "2025-02-02T08:49:13.128345Z"
    }
   },
   "cell_type": "code",
   "source": [
    "knn_users = NearestNeighbors(metric=\"cosine\", algorithm=\"brute\")\n",
    "knn_users.fit(sparse_book_user_matrix)"
   ],
   "id": "4f691aaddc809dbb",
   "outputs": [
    {
     "data": {
      "text/plain": [
       "NearestNeighbors(algorithm='brute', metric='cosine')"
      ],
      "text/html": [
       "<style>#sk-container-id-1 {\n",
       "  /* Definition of color scheme common for light and dark mode */\n",
       "  --sklearn-color-text: #000;\n",
       "  --sklearn-color-text-muted: #666;\n",
       "  --sklearn-color-line: gray;\n",
       "  /* Definition of color scheme for unfitted estimators */\n",
       "  --sklearn-color-unfitted-level-0: #fff5e6;\n",
       "  --sklearn-color-unfitted-level-1: #f6e4d2;\n",
       "  --sklearn-color-unfitted-level-2: #ffe0b3;\n",
       "  --sklearn-color-unfitted-level-3: chocolate;\n",
       "  /* Definition of color scheme for fitted estimators */\n",
       "  --sklearn-color-fitted-level-0: #f0f8ff;\n",
       "  --sklearn-color-fitted-level-1: #d4ebff;\n",
       "  --sklearn-color-fitted-level-2: #b3dbfd;\n",
       "  --sklearn-color-fitted-level-3: cornflowerblue;\n",
       "\n",
       "  /* Specific color for light theme */\n",
       "  --sklearn-color-text-on-default-background: var(--sg-text-color, var(--theme-code-foreground, var(--jp-content-font-color1, black)));\n",
       "  --sklearn-color-background: var(--sg-background-color, var(--theme-background, var(--jp-layout-color0, white)));\n",
       "  --sklearn-color-border-box: var(--sg-text-color, var(--theme-code-foreground, var(--jp-content-font-color1, black)));\n",
       "  --sklearn-color-icon: #696969;\n",
       "\n",
       "  @media (prefers-color-scheme: dark) {\n",
       "    /* Redefinition of color scheme for dark theme */\n",
       "    --sklearn-color-text-on-default-background: var(--sg-text-color, var(--theme-code-foreground, var(--jp-content-font-color1, white)));\n",
       "    --sklearn-color-background: var(--sg-background-color, var(--theme-background, var(--jp-layout-color0, #111)));\n",
       "    --sklearn-color-border-box: var(--sg-text-color, var(--theme-code-foreground, var(--jp-content-font-color1, white)));\n",
       "    --sklearn-color-icon: #878787;\n",
       "  }\n",
       "}\n",
       "\n",
       "#sk-container-id-1 {\n",
       "  color: var(--sklearn-color-text);\n",
       "}\n",
       "\n",
       "#sk-container-id-1 pre {\n",
       "  padding: 0;\n",
       "}\n",
       "\n",
       "#sk-container-id-1 input.sk-hidden--visually {\n",
       "  border: 0;\n",
       "  clip: rect(1px 1px 1px 1px);\n",
       "  clip: rect(1px, 1px, 1px, 1px);\n",
       "  height: 1px;\n",
       "  margin: -1px;\n",
       "  overflow: hidden;\n",
       "  padding: 0;\n",
       "  position: absolute;\n",
       "  width: 1px;\n",
       "}\n",
       "\n",
       "#sk-container-id-1 div.sk-dashed-wrapped {\n",
       "  border: 1px dashed var(--sklearn-color-line);\n",
       "  margin: 0 0.4em 0.5em 0.4em;\n",
       "  box-sizing: border-box;\n",
       "  padding-bottom: 0.4em;\n",
       "  background-color: var(--sklearn-color-background);\n",
       "}\n",
       "\n",
       "#sk-container-id-1 div.sk-container {\n",
       "  /* jupyter's `normalize.less` sets `[hidden] { display: none; }`\n",
       "     but bootstrap.min.css set `[hidden] { display: none !important; }`\n",
       "     so we also need the `!important` here to be able to override the\n",
       "     default hidden behavior on the sphinx rendered scikit-learn.org.\n",
       "     See: https://github.com/scikit-learn/scikit-learn/issues/21755 */\n",
       "  display: inline-block !important;\n",
       "  position: relative;\n",
       "}\n",
       "\n",
       "#sk-container-id-1 div.sk-text-repr-fallback {\n",
       "  display: none;\n",
       "}\n",
       "\n",
       "div.sk-parallel-item,\n",
       "div.sk-serial,\n",
       "div.sk-item {\n",
       "  /* draw centered vertical line to link estimators */\n",
       "  background-image: linear-gradient(var(--sklearn-color-text-on-default-background), var(--sklearn-color-text-on-default-background));\n",
       "  background-size: 2px 100%;\n",
       "  background-repeat: no-repeat;\n",
       "  background-position: center center;\n",
       "}\n",
       "\n",
       "/* Parallel-specific style estimator block */\n",
       "\n",
       "#sk-container-id-1 div.sk-parallel-item::after {\n",
       "  content: \"\";\n",
       "  width: 100%;\n",
       "  border-bottom: 2px solid var(--sklearn-color-text-on-default-background);\n",
       "  flex-grow: 1;\n",
       "}\n",
       "\n",
       "#sk-container-id-1 div.sk-parallel {\n",
       "  display: flex;\n",
       "  align-items: stretch;\n",
       "  justify-content: center;\n",
       "  background-color: var(--sklearn-color-background);\n",
       "  position: relative;\n",
       "}\n",
       "\n",
       "#sk-container-id-1 div.sk-parallel-item {\n",
       "  display: flex;\n",
       "  flex-direction: column;\n",
       "}\n",
       "\n",
       "#sk-container-id-1 div.sk-parallel-item:first-child::after {\n",
       "  align-self: flex-end;\n",
       "  width: 50%;\n",
       "}\n",
       "\n",
       "#sk-container-id-1 div.sk-parallel-item:last-child::after {\n",
       "  align-self: flex-start;\n",
       "  width: 50%;\n",
       "}\n",
       "\n",
       "#sk-container-id-1 div.sk-parallel-item:only-child::after {\n",
       "  width: 0;\n",
       "}\n",
       "\n",
       "/* Serial-specific style estimator block */\n",
       "\n",
       "#sk-container-id-1 div.sk-serial {\n",
       "  display: flex;\n",
       "  flex-direction: column;\n",
       "  align-items: center;\n",
       "  background-color: var(--sklearn-color-background);\n",
       "  padding-right: 1em;\n",
       "  padding-left: 1em;\n",
       "}\n",
       "\n",
       "\n",
       "/* Toggleable style: style used for estimator/Pipeline/ColumnTransformer box that is\n",
       "clickable and can be expanded/collapsed.\n",
       "- Pipeline and ColumnTransformer use this feature and define the default style\n",
       "- Estimators will overwrite some part of the style using the `sk-estimator` class\n",
       "*/\n",
       "\n",
       "/* Pipeline and ColumnTransformer style (default) */\n",
       "\n",
       "#sk-container-id-1 div.sk-toggleable {\n",
       "  /* Default theme specific background. It is overwritten whether we have a\n",
       "  specific estimator or a Pipeline/ColumnTransformer */\n",
       "  background-color: var(--sklearn-color-background);\n",
       "}\n",
       "\n",
       "/* Toggleable label */\n",
       "#sk-container-id-1 label.sk-toggleable__label {\n",
       "  cursor: pointer;\n",
       "  display: flex;\n",
       "  width: 100%;\n",
       "  margin-bottom: 0;\n",
       "  padding: 0.5em;\n",
       "  box-sizing: border-box;\n",
       "  text-align: center;\n",
       "  align-items: start;\n",
       "  justify-content: space-between;\n",
       "  gap: 0.5em;\n",
       "}\n",
       "\n",
       "#sk-container-id-1 label.sk-toggleable__label .caption {\n",
       "  font-size: 0.6rem;\n",
       "  font-weight: lighter;\n",
       "  color: var(--sklearn-color-text-muted);\n",
       "}\n",
       "\n",
       "#sk-container-id-1 label.sk-toggleable__label-arrow:before {\n",
       "  /* Arrow on the left of the label */\n",
       "  content: \"▸\";\n",
       "  float: left;\n",
       "  margin-right: 0.25em;\n",
       "  color: var(--sklearn-color-icon);\n",
       "}\n",
       "\n",
       "#sk-container-id-1 label.sk-toggleable__label-arrow:hover:before {\n",
       "  color: var(--sklearn-color-text);\n",
       "}\n",
       "\n",
       "/* Toggleable content - dropdown */\n",
       "\n",
       "#sk-container-id-1 div.sk-toggleable__content {\n",
       "  max-height: 0;\n",
       "  max-width: 0;\n",
       "  overflow: hidden;\n",
       "  text-align: left;\n",
       "  /* unfitted */\n",
       "  background-color: var(--sklearn-color-unfitted-level-0);\n",
       "}\n",
       "\n",
       "#sk-container-id-1 div.sk-toggleable__content.fitted {\n",
       "  /* fitted */\n",
       "  background-color: var(--sklearn-color-fitted-level-0);\n",
       "}\n",
       "\n",
       "#sk-container-id-1 div.sk-toggleable__content pre {\n",
       "  margin: 0.2em;\n",
       "  border-radius: 0.25em;\n",
       "  color: var(--sklearn-color-text);\n",
       "  /* unfitted */\n",
       "  background-color: var(--sklearn-color-unfitted-level-0);\n",
       "}\n",
       "\n",
       "#sk-container-id-1 div.sk-toggleable__content.fitted pre {\n",
       "  /* unfitted */\n",
       "  background-color: var(--sklearn-color-fitted-level-0);\n",
       "}\n",
       "\n",
       "#sk-container-id-1 input.sk-toggleable__control:checked~div.sk-toggleable__content {\n",
       "  /* Expand drop-down */\n",
       "  max-height: 200px;\n",
       "  max-width: 100%;\n",
       "  overflow: auto;\n",
       "}\n",
       "\n",
       "#sk-container-id-1 input.sk-toggleable__control:checked~label.sk-toggleable__label-arrow:before {\n",
       "  content: \"▾\";\n",
       "}\n",
       "\n",
       "/* Pipeline/ColumnTransformer-specific style */\n",
       "\n",
       "#sk-container-id-1 div.sk-label input.sk-toggleable__control:checked~label.sk-toggleable__label {\n",
       "  color: var(--sklearn-color-text);\n",
       "  background-color: var(--sklearn-color-unfitted-level-2);\n",
       "}\n",
       "\n",
       "#sk-container-id-1 div.sk-label.fitted input.sk-toggleable__control:checked~label.sk-toggleable__label {\n",
       "  background-color: var(--sklearn-color-fitted-level-2);\n",
       "}\n",
       "\n",
       "/* Estimator-specific style */\n",
       "\n",
       "/* Colorize estimator box */\n",
       "#sk-container-id-1 div.sk-estimator input.sk-toggleable__control:checked~label.sk-toggleable__label {\n",
       "  /* unfitted */\n",
       "  background-color: var(--sklearn-color-unfitted-level-2);\n",
       "}\n",
       "\n",
       "#sk-container-id-1 div.sk-estimator.fitted input.sk-toggleable__control:checked~label.sk-toggleable__label {\n",
       "  /* fitted */\n",
       "  background-color: var(--sklearn-color-fitted-level-2);\n",
       "}\n",
       "\n",
       "#sk-container-id-1 div.sk-label label.sk-toggleable__label,\n",
       "#sk-container-id-1 div.sk-label label {\n",
       "  /* The background is the default theme color */\n",
       "  color: var(--sklearn-color-text-on-default-background);\n",
       "}\n",
       "\n",
       "/* On hover, darken the color of the background */\n",
       "#sk-container-id-1 div.sk-label:hover label.sk-toggleable__label {\n",
       "  color: var(--sklearn-color-text);\n",
       "  background-color: var(--sklearn-color-unfitted-level-2);\n",
       "}\n",
       "\n",
       "/* Label box, darken color on hover, fitted */\n",
       "#sk-container-id-1 div.sk-label.fitted:hover label.sk-toggleable__label.fitted {\n",
       "  color: var(--sklearn-color-text);\n",
       "  background-color: var(--sklearn-color-fitted-level-2);\n",
       "}\n",
       "\n",
       "/* Estimator label */\n",
       "\n",
       "#sk-container-id-1 div.sk-label label {\n",
       "  font-family: monospace;\n",
       "  font-weight: bold;\n",
       "  display: inline-block;\n",
       "  line-height: 1.2em;\n",
       "}\n",
       "\n",
       "#sk-container-id-1 div.sk-label-container {\n",
       "  text-align: center;\n",
       "}\n",
       "\n",
       "/* Estimator-specific */\n",
       "#sk-container-id-1 div.sk-estimator {\n",
       "  font-family: monospace;\n",
       "  border: 1px dotted var(--sklearn-color-border-box);\n",
       "  border-radius: 0.25em;\n",
       "  box-sizing: border-box;\n",
       "  margin-bottom: 0.5em;\n",
       "  /* unfitted */\n",
       "  background-color: var(--sklearn-color-unfitted-level-0);\n",
       "}\n",
       "\n",
       "#sk-container-id-1 div.sk-estimator.fitted {\n",
       "  /* fitted */\n",
       "  background-color: var(--sklearn-color-fitted-level-0);\n",
       "}\n",
       "\n",
       "/* on hover */\n",
       "#sk-container-id-1 div.sk-estimator:hover {\n",
       "  /* unfitted */\n",
       "  background-color: var(--sklearn-color-unfitted-level-2);\n",
       "}\n",
       "\n",
       "#sk-container-id-1 div.sk-estimator.fitted:hover {\n",
       "  /* fitted */\n",
       "  background-color: var(--sklearn-color-fitted-level-2);\n",
       "}\n",
       "\n",
       "/* Specification for estimator info (e.g. \"i\" and \"?\") */\n",
       "\n",
       "/* Common style for \"i\" and \"?\" */\n",
       "\n",
       ".sk-estimator-doc-link,\n",
       "a:link.sk-estimator-doc-link,\n",
       "a:visited.sk-estimator-doc-link {\n",
       "  float: right;\n",
       "  font-size: smaller;\n",
       "  line-height: 1em;\n",
       "  font-family: monospace;\n",
       "  background-color: var(--sklearn-color-background);\n",
       "  border-radius: 1em;\n",
       "  height: 1em;\n",
       "  width: 1em;\n",
       "  text-decoration: none !important;\n",
       "  margin-left: 0.5em;\n",
       "  text-align: center;\n",
       "  /* unfitted */\n",
       "  border: var(--sklearn-color-unfitted-level-1) 1pt solid;\n",
       "  color: var(--sklearn-color-unfitted-level-1);\n",
       "}\n",
       "\n",
       ".sk-estimator-doc-link.fitted,\n",
       "a:link.sk-estimator-doc-link.fitted,\n",
       "a:visited.sk-estimator-doc-link.fitted {\n",
       "  /* fitted */\n",
       "  border: var(--sklearn-color-fitted-level-1) 1pt solid;\n",
       "  color: var(--sklearn-color-fitted-level-1);\n",
       "}\n",
       "\n",
       "/* On hover */\n",
       "div.sk-estimator:hover .sk-estimator-doc-link:hover,\n",
       ".sk-estimator-doc-link:hover,\n",
       "div.sk-label-container:hover .sk-estimator-doc-link:hover,\n",
       ".sk-estimator-doc-link:hover {\n",
       "  /* unfitted */\n",
       "  background-color: var(--sklearn-color-unfitted-level-3);\n",
       "  color: var(--sklearn-color-background);\n",
       "  text-decoration: none;\n",
       "}\n",
       "\n",
       "div.sk-estimator.fitted:hover .sk-estimator-doc-link.fitted:hover,\n",
       ".sk-estimator-doc-link.fitted:hover,\n",
       "div.sk-label-container:hover .sk-estimator-doc-link.fitted:hover,\n",
       ".sk-estimator-doc-link.fitted:hover {\n",
       "  /* fitted */\n",
       "  background-color: var(--sklearn-color-fitted-level-3);\n",
       "  color: var(--sklearn-color-background);\n",
       "  text-decoration: none;\n",
       "}\n",
       "\n",
       "/* Span, style for the box shown on hovering the info icon */\n",
       ".sk-estimator-doc-link span {\n",
       "  display: none;\n",
       "  z-index: 9999;\n",
       "  position: relative;\n",
       "  font-weight: normal;\n",
       "  right: .2ex;\n",
       "  padding: .5ex;\n",
       "  margin: .5ex;\n",
       "  width: min-content;\n",
       "  min-width: 20ex;\n",
       "  max-width: 50ex;\n",
       "  color: var(--sklearn-color-text);\n",
       "  box-shadow: 2pt 2pt 4pt #999;\n",
       "  /* unfitted */\n",
       "  background: var(--sklearn-color-unfitted-level-0);\n",
       "  border: .5pt solid var(--sklearn-color-unfitted-level-3);\n",
       "}\n",
       "\n",
       ".sk-estimator-doc-link.fitted span {\n",
       "  /* fitted */\n",
       "  background: var(--sklearn-color-fitted-level-0);\n",
       "  border: var(--sklearn-color-fitted-level-3);\n",
       "}\n",
       "\n",
       ".sk-estimator-doc-link:hover span {\n",
       "  display: block;\n",
       "}\n",
       "\n",
       "/* \"?\"-specific style due to the `<a>` HTML tag */\n",
       "\n",
       "#sk-container-id-1 a.estimator_doc_link {\n",
       "  float: right;\n",
       "  font-size: 1rem;\n",
       "  line-height: 1em;\n",
       "  font-family: monospace;\n",
       "  background-color: var(--sklearn-color-background);\n",
       "  border-radius: 1rem;\n",
       "  height: 1rem;\n",
       "  width: 1rem;\n",
       "  text-decoration: none;\n",
       "  /* unfitted */\n",
       "  color: var(--sklearn-color-unfitted-level-1);\n",
       "  border: var(--sklearn-color-unfitted-level-1) 1pt solid;\n",
       "}\n",
       "\n",
       "#sk-container-id-1 a.estimator_doc_link.fitted {\n",
       "  /* fitted */\n",
       "  border: var(--sklearn-color-fitted-level-1) 1pt solid;\n",
       "  color: var(--sklearn-color-fitted-level-1);\n",
       "}\n",
       "\n",
       "/* On hover */\n",
       "#sk-container-id-1 a.estimator_doc_link:hover {\n",
       "  /* unfitted */\n",
       "  background-color: var(--sklearn-color-unfitted-level-3);\n",
       "  color: var(--sklearn-color-background);\n",
       "  text-decoration: none;\n",
       "}\n",
       "\n",
       "#sk-container-id-1 a.estimator_doc_link.fitted:hover {\n",
       "  /* fitted */\n",
       "  background-color: var(--sklearn-color-fitted-level-3);\n",
       "}\n",
       "</style><div id=\"sk-container-id-1\" class=\"sk-top-container\"><div class=\"sk-text-repr-fallback\"><pre>NearestNeighbors(algorithm=&#x27;brute&#x27;, metric=&#x27;cosine&#x27;)</pre><b>In a Jupyter environment, please rerun this cell to show the HTML representation or trust the notebook. <br />On GitHub, the HTML representation is unable to render, please try loading this page with nbviewer.org.</b></div><div class=\"sk-container\" hidden><div class=\"sk-item\"><div class=\"sk-estimator fitted sk-toggleable\"><input class=\"sk-toggleable__control sk-hidden--visually\" id=\"sk-estimator-id-1\" type=\"checkbox\" checked><label for=\"sk-estimator-id-1\" class=\"sk-toggleable__label fitted sk-toggleable__label-arrow\"><div><div>NearestNeighbors</div></div><div><a class=\"sk-estimator-doc-link fitted\" rel=\"noreferrer\" target=\"_blank\" href=\"https://scikit-learn.org/1.6/modules/generated/sklearn.neighbors.NearestNeighbors.html\">?<span>Documentation for NearestNeighbors</span></a><span class=\"sk-estimator-doc-link fitted\">i<span>Fitted</span></span></div></label><div class=\"sk-toggleable__content fitted\"><pre>NearestNeighbors(algorithm=&#x27;brute&#x27;, metric=&#x27;cosine&#x27;)</pre></div> </div></div></div></div>"
      ]
     },
     "execution_count": 12,
     "metadata": {},
     "output_type": "execute_result"
    }
   ],
   "execution_count": 12
  },
  {
   "metadata": {
    "ExecuteTime": {
     "end_time": "2025-02-02T08:49:13.139110Z",
     "start_time": "2025-02-02T08:49:13.136612Z"
    }
   },
   "cell_type": "code",
   "source": [
    "def recommend_books_knn(user_id, n_recommendations=5):\n",
    "    if user_id not in df[\"User-ID\"].values:\n",
    "        return \"User not found\"\n",
    "\n",
    "    user_idx = df[df[\"User-ID\"] == user_id].index[0]\n",
    "    user_code = df.loc[user_idx, 'user_code']\n",
    "\n",
    "    distances, indices = knn_users.kneighbors(sparse_book_user_matrix[user_code].reshape(1, -1), n_neighbors=n_recommendations + 1)\n",
    "\n",
    "    recommended_books = df.iloc[indices.flatten()[1:]][\"ISBN\"].values.tolist()\n",
    "\n",
    "    return recommended_books"
   ],
   "id": "69968b3cd6f532af",
   "outputs": [],
   "execution_count": 13
  },
  {
   "metadata": {
    "ExecuteTime": {
     "end_time": "2025-02-02T08:49:13.354905Z",
     "start_time": "2025-02-02T08:49:13.139928Z"
    }
   },
   "cell_type": "code",
   "source": [
    "# testing KNN model\n",
    "sample = books_with_rating_df.sample(1)\n",
    "user_id = sample['User-ID'].values[0]\n",
    "\n",
    "recommendations = recommend_books_knn(user_id, n_recommendations=5)\n",
    "recommendations_titles = [books_df.loc[books_df['ISBN'] == rec_isbn]['Book-Title'].values[0] for rec_isbn in recommendations]\n",
    "\n",
    "print(f'Recommended books for user {user_id}: {recommendations_titles}')"
   ],
   "id": "f68b149431907140",
   "outputs": [
    {
     "name": "stdout",
     "output_type": "stream",
     "text": [
      "Recommended books for user 70379: ['Digital Fortress : A Thriller', 'The Lovely Bones: A Novel', 'Kiss the Girls', 'The Neverending Story', 'Mother of Pearl']\n"
     ]
    }
   ],
   "execution_count": 14
  },
  {
   "metadata": {},
   "cell_type": "markdown",
   "source": "### PREPARING DATASETS",
   "id": "d56b652ab2ec8399"
  },
  {
   "metadata": {
    "ExecuteTime": {
     "end_time": "2025-02-02T08:49:13.360217Z",
     "start_time": "2025-02-02T08:49:13.355556Z"
    }
   },
   "cell_type": "code",
   "source": "books_with_rating_df.head()",
   "id": "4b984fdd7b3e31c5",
   "outputs": [
    {
     "data": {
      "text/plain": [
       "         ISBN User-ID  Book-Rating\n",
       "0  0195153448       2          0.0\n",
       "1  0002005018       8          5.0\n",
       "2  0002005018   11400          0.0\n",
       "3  0002005018   11676          8.0\n",
       "4  0002005018   41385          0.0"
      ],
      "text/html": [
       "<div>\n",
       "<style scoped>\n",
       "    .dataframe tbody tr th:only-of-type {\n",
       "        vertical-align: middle;\n",
       "    }\n",
       "\n",
       "    .dataframe tbody tr th {\n",
       "        vertical-align: top;\n",
       "    }\n",
       "\n",
       "    .dataframe thead th {\n",
       "        text-align: right;\n",
       "    }\n",
       "</style>\n",
       "<table border=\"1\" class=\"dataframe\">\n",
       "  <thead>\n",
       "    <tr style=\"text-align: right;\">\n",
       "      <th></th>\n",
       "      <th>ISBN</th>\n",
       "      <th>User-ID</th>\n",
       "      <th>Book-Rating</th>\n",
       "    </tr>\n",
       "  </thead>\n",
       "  <tbody>\n",
       "    <tr>\n",
       "      <th>0</th>\n",
       "      <td>0195153448</td>\n",
       "      <td>2</td>\n",
       "      <td>0.0</td>\n",
       "    </tr>\n",
       "    <tr>\n",
       "      <th>1</th>\n",
       "      <td>0002005018</td>\n",
       "      <td>8</td>\n",
       "      <td>5.0</td>\n",
       "    </tr>\n",
       "    <tr>\n",
       "      <th>2</th>\n",
       "      <td>0002005018</td>\n",
       "      <td>11400</td>\n",
       "      <td>0.0</td>\n",
       "    </tr>\n",
       "    <tr>\n",
       "      <th>3</th>\n",
       "      <td>0002005018</td>\n",
       "      <td>11676</td>\n",
       "      <td>8.0</td>\n",
       "    </tr>\n",
       "    <tr>\n",
       "      <th>4</th>\n",
       "      <td>0002005018</td>\n",
       "      <td>41385</td>\n",
       "      <td>0.0</td>\n",
       "    </tr>\n",
       "  </tbody>\n",
       "</table>\n",
       "</div>"
      ]
     },
     "execution_count": 15,
     "metadata": {},
     "output_type": "execute_result"
    }
   ],
   "execution_count": 15
  },
  {
   "metadata": {
    "ExecuteTime": {
     "end_time": "2025-02-02T08:49:13.823023Z",
     "start_time": "2025-02-02T08:49:13.360843Z"
    }
   },
   "cell_type": "code",
   "source": [
    "books_with_rating_df['User-ID_code'] = books_with_rating_df['User-ID'].astype('category').cat.codes.astype(int)\n",
    "books_with_rating_df['ISBN_code'] = books_with_rating_df['ISBN'].astype('category').cat.codes.astype(int)\n",
    "books_with_rating_df.info()"
   ],
   "id": "26ec6aa2c8042d50",
   "outputs": [
    {
     "name": "stdout",
     "output_type": "stream",
     "text": [
      "<class 'pandas.core.frame.DataFrame'>\n",
      "Index: 1031136 entries, 0 to 1032344\n",
      "Data columns (total 5 columns):\n",
      " #   Column        Non-Null Count    Dtype  \n",
      "---  ------        --------------    -----  \n",
      " 0   ISBN          1031136 non-null  object \n",
      " 1   User-ID       1031136 non-null  object \n",
      " 2   Book-Rating   1031136 non-null  float64\n",
      " 3   User-ID_code  1031136 non-null  int64  \n",
      " 4   ISBN_code     1031136 non-null  int64  \n",
      "dtypes: float64(1), int64(2), object(2)\n",
      "memory usage: 79.5+ MB\n"
     ]
    }
   ],
   "execution_count": 16
  },
  {
   "metadata": {
    "ExecuteTime": {
     "end_time": "2025-02-02T08:49:13.842623Z",
     "start_time": "2025-02-02T08:49:13.823932Z"
    }
   },
   "cell_type": "code",
   "source": [
    "n_users = books_with_rating_df['User-ID_code'].nunique()\n",
    "n_books = books_with_rating_df['ISBN_code'].nunique()\n",
    "min_rating = books_with_rating_df['Book-Rating'].min()\n",
    "max_rating = books_with_rating_df['Book-Rating'].max()\n",
    "\n",
    "n_users, n_books, min_rating, max_rating"
   ],
   "id": "c180836332124575",
   "outputs": [
    {
     "data": {
      "text/plain": [
       "(92106, 270151, 0.0, 10.0)"
      ]
     },
     "execution_count": 17,
     "metadata": {},
     "output_type": "execute_result"
    }
   ],
   "execution_count": 17
  },
  {
   "metadata": {
    "ExecuteTime": {
     "end_time": "2025-02-02T08:49:14.061971Z",
     "start_time": "2025-02-02T08:49:13.843370Z"
    }
   },
   "cell_type": "code",
   "source": [
    "from sklearn.model_selection import train_test_split\n",
    "\n",
    "df_train, df_test = train_test_split(\n",
    "    books_with_rating_df, test_size=0.2, random_state=42, stratify=books_with_rating_df['Book-Rating'].values\n",
    ")"
   ],
   "id": "2c7df2b3919bac2",
   "outputs": [],
   "execution_count": 18
  },
  {
   "metadata": {
    "ExecuteTime": {
     "end_time": "2025-02-02T08:49:14.065228Z",
     "start_time": "2025-02-02T08:49:14.062701Z"
    }
   },
   "cell_type": "code",
   "source": "df_train.shape[0], df_test.shape[0]",
   "id": "fc7cadb8c3df9c8e",
   "outputs": [
    {
     "data": {
      "text/plain": [
       "(824908, 206228)"
      ]
     },
     "execution_count": 19,
     "metadata": {},
     "output_type": "execute_result"
    }
   ],
   "execution_count": 19
  },
  {
   "metadata": {
    "ExecuteTime": {
     "end_time": "2025-02-02T08:49:14.076475Z",
     "start_time": "2025-02-02T08:49:14.065803Z"
    }
   },
   "cell_type": "code",
   "source": [
    "print(books_with_rating_df['User-ID_code'].min())\n",
    "print(books_with_rating_df['ISBN_code'].max())\n",
    "print(books_with_rating_df['Book-Rating'].min())\n",
    "print(books_with_rating_df['Book-Rating'].max())"
   ],
   "id": "39251ff212a66684",
   "outputs": [
    {
     "name": "stdout",
     "output_type": "stream",
     "text": [
      "0\n",
      "270150\n",
      "0.0\n",
      "10.0\n"
     ]
    }
   ],
   "execution_count": 20
  },
  {
   "metadata": {
    "ExecuteTime": {
     "end_time": "2025-02-02T08:49:14.949368Z",
     "start_time": "2025-02-02T08:49:14.077048Z"
    }
   },
   "cell_type": "code",
   "source": [
    "import torch\n",
    "import torch.nn as nn\n",
    "import torch.optim as optim\n",
    "from torch.utils.data import Dataset, DataLoader"
   ],
   "id": "e0cef955e61b2e6b",
   "outputs": [],
   "execution_count": 21
  },
  {
   "metadata": {
    "ExecuteTime": {
     "end_time": "2025-02-02T08:49:14.952720Z",
     "start_time": "2025-02-02T08:49:14.950007Z"
    }
   },
   "cell_type": "code",
   "source": [
    "class BookDataset(Dataset):\n",
    "    def __init__(self, df):\n",
    "        self.books = df['ISBN_code'].values\n",
    "        self.users = df['User-ID_code'].values\n",
    "        self.ratings = df['Book-Rating'].values\n",
    "        \n",
    "    def __len__(self):\n",
    "        return len(self.books)\n",
    "    \n",
    "    def __getitem__(self, idx):\n",
    "        return torch.tensor(self.users[idx], dtype=torch.int64), \\\n",
    "               torch.tensor(self.books[idx], dtype=torch.int64), \\\n",
    "               torch.tensor(self.ratings[idx], dtype=torch.float32)"
   ],
   "id": "997e3971eba51c0f",
   "outputs": [],
   "execution_count": 22
  },
  {
   "metadata": {
    "ExecuteTime": {
     "end_time": "2025-02-02T08:49:14.984061Z",
     "start_time": "2025-02-02T08:49:14.953635Z"
    }
   },
   "cell_type": "code",
   "source": [
    "train_dataset = BookDataset(df_train)\n",
    "test_dataset = BookDataset(df_test)\n",
    "\n",
    "train_loader = DataLoader(train_dataset, batch_size=64, shuffle=True)\n",
    "test_loader = DataLoader(test_dataset, batch_size=64, shuffle=True)\n",
    "\n",
    "for users, books, ratings in train_loader:\n",
    "    print(\"Users:\", users)\n",
    "    print(\"Books:\", books)\n",
    "    print(\"Ratings:\", ratings)\n",
    "    break \n"
   ],
   "id": "f82a44f1d09ffa42",
   "outputs": [
    {
     "name": "stdout",
     "output_type": "stream",
     "text": [
      "Users: tensor([64051, 45219, 26311, 12578, 75966, 81409, 54808, 59331, 18917, 87978,\n",
      "        44579,  3188, 60882, 39733, 68897, 26028,  7577, 24286, 36827,  3417,\n",
      "        57181,  8521, 83893, 31302, 36583, 26998, 14396, 36749, 83088, 27265,\n",
      "         6063, 16976, 63803, 74594, 52213, 41012, 79892, 85470, 30600, 21083,\n",
      "        56601, 83494, 82154, 35939, 29513, 15237, 24650,  8425, 64622, 11900,\n",
      "        60465, 33848, 20769, 51809, 59734, 68358, 88498, 78352, 49209, 10549,\n",
      "        23710, 31958, 80753, 81455])\n",
      "Books: tensor([180440,  93244, 100362,  70798, 100031,  86348, 148262,  58626,  11257,\n",
      "         64528, 128704,  68331, 100733,  64637, 121071,  10291, 131746, 133449,\n",
      "         80612,  70863,  72309,   1335,  44408, 115965, 241260,  38793, 247293,\n",
      "         84467,  35812, 218303,  45978, 157436,  95097, 144321, 186685,  82601,\n",
      "         64212, 128157,  15395, 100317, 145038,  87241,  37904,  36359,  96606,\n",
      "         26663, 248585, 104044,  98809,  92701, 117794,  19103,  93914, 127176,\n",
      "        211219, 242211, 161796, 138352,   2526,  85015, 144000,  69723,  38487,\n",
      "        221278])\n",
      "Ratings: tensor([ 0.,  0.,  0.,  8., 10.,  0.,  0.,  0., 10.,  8., 10., 10.,  0.,  0.,\n",
      "         0.,  7.,  9.,  0.,  0., 10.,  9.,  5.,  0.,  0.,  6.,  0.,  0.,  9.,\n",
      "         6.,  0.,  0.,  9.,  9.,  0.,  0.,  0.,  6., 10.,  0.,  6.,  0.,  0.,\n",
      "         9.,  0.,  0.,  7., 10.,  8.,  0.,  0.,  0.,  0.,  0.,  0.,  8.,  7.,\n",
      "         9.,  8.,  0.,  0., 10.,  8.,  0.,  0.])\n"
     ]
    }
   ],
   "execution_count": 23
  },
  {
   "metadata": {
    "ExecuteTime": {
     "end_time": "2025-02-02T10:25:29.170941Z",
     "start_time": "2025-02-02T10:25:29.163754Z"
    }
   },
   "cell_type": "code",
   "source": [
    "import matplotlib.pyplot as plt\n",
    "from IPython import display\n",
    "import os\n",
    "\n",
    "os.environ[\"KMP_DUPLICATE_LIB_OK\"] = \"True\"\n",
    "\n",
    "plt.ion()\n",
    "\n",
    "def plot(metrics):\n",
    "    display.clear_output(wait=True)\n",
    "    display.display(plt.gcf())\n",
    "    plt.clf()\n",
    "    plt.title(\"Training Progress\")\n",
    "    plt.xlabel(\"Epoch\")\n",
    "    \n",
    "    epochs = list(range(1, len(metrics[\"train_loss\"]) + 1))\n",
    "    \n",
    "    fig, axs = plt.subplots(2, 1, figsize=(8, 10))\n",
    "    \n",
    "    axs[0].plot(epochs, metrics[\"train_loss\"], label=\"Train Loss\", color='blue')\n",
    "    axs[0].plot(epochs, metrics[\"valid_loss\"], label=\"Valid Loss\", color='red')\n",
    "    axs[0].set_ylabel(\"Loss\")\n",
    "    axs[0].legend()\n",
    "    axs[0].grid()\n",
    "    \n",
    "    axs[1].plot(epochs, metrics[\"train_accuracy\"], label=\"Train Accuracy\", color='green')\n",
    "    axs[1].plot(epochs, metrics[\"valid_accuracy\"], label=\"Valid Accuracy\", color='orange')\n",
    "    axs[1].set_ylabel(\"Accuracy (%)\")\n",
    "    axs[1].set_xlabel(\"Epoch\")\n",
    "    axs[1].legend()\n",
    "    axs[1].grid()\n",
    "    \n",
    "    plt.show(block=False)\n",
    "    plt.pause(0.1)"
   ],
   "id": "b86817de9cd385f5",
   "outputs": [],
   "execution_count": 169
  },
  {
   "metadata": {
    "ExecuteTime": {
     "end_time": "2025-02-02T10:25:29.592151Z",
     "start_time": "2025-02-02T10:25:29.588882Z"
    }
   },
   "cell_type": "code",
   "source": [
    "class RecommenderModel(nn.Module):\n",
    "    def __init__(self, n_users, n_books, embedding_dim=64):\n",
    "        super(RecommenderModel, self).__init__()\n",
    "        self.user_embedding = nn.Embedding(n_users, embedding_dim)\n",
    "        self.book_embedding = nn.Embedding(n_books, embedding_dim)\n",
    "        self.fc2 = nn.Linear(128, 128)\n",
    "        self.fc1 = nn.Linear(128, 1)\n",
    "        \n",
    "    def forward(self, user, book):\n",
    "        user_embeddings = self.user_embedding(user)\n",
    "        book_embeddings = self.book_embedding(book)\n",
    "        x = torch.cat([user_embeddings, book_embeddings], dim=1)\n",
    "        x = self.fc2(x)\n",
    "        x = self.fc1(x)\n",
    "        x = torch.sigmoid(x) * 10\n",
    "        return x"
   ],
   "id": "51d86f8ec681c66e",
   "outputs": [],
   "execution_count": 170
  },
  {
   "metadata": {
    "ExecuteTime": {
     "end_time": "2025-02-02T10:25:30.111271Z",
     "start_time": "2025-02-02T10:25:30.105825Z"
    }
   },
   "cell_type": "code",
   "source": [
    "def train(model, train_loader, valid_loader, optimizer, scheduler, num_epochs=20, device=\"cpu\"):\n",
    "    best_valid_loss = float('inf')\n",
    "    criterion = nn.MSELoss()\n",
    "    \n",
    "    metrics = {\"train_loss\": [], \"valid_loss\": [], \"train_accuracy\": [], \"valid_accuracy\": []}\n",
    "    history = []\n",
    "    \n",
    "    for epoch in range(num_epochs):\n",
    "        model.train() \n",
    "        running_loss = 0.0\n",
    "        correct_predictions = 0\n",
    "        total_predictions = 0\n",
    "\n",
    "        for user, book, rating in train_loader:\n",
    "            user, book, rating = user.to(device), book.to(device), rating.to(device)\n",
    "            \n",
    "            optimizer.zero_grad()\n",
    "            output = model(user, book)\n",
    "            loss = criterion(output.squeeze(), rating)\n",
    "            loss.backward()\n",
    "            optimizer.step()\n",
    "\n",
    "            running_loss += loss.item()\n",
    "            predicted = output.squeeze()\n",
    "            correct_predictions += torch.sum(torch.abs(predicted - rating) < 0.5).item()\n",
    "            total_predictions += rating.size(0)\n",
    "\n",
    "        scheduler.step()\n",
    "        train_loss = running_loss / len(train_loader)\n",
    "        train_accuracy = (correct_predictions / total_predictions) * 100\n",
    "        \n",
    "        model.eval()\n",
    "        valid_loss = 0.0\n",
    "        valid_correct_predictions = 0\n",
    "        valid_total_predictions = 0\n",
    "\n",
    "        with torch.no_grad():  \n",
    "            for user, book, rating in valid_loader:\n",
    "                user, book, rating = user.to(device), book.to(device), rating.to(device)\n",
    "                output = model(user, book)\n",
    "                loss = criterion(output.squeeze(), rating)\n",
    "                valid_loss += loss.item()\n",
    "\n",
    "                predicted = output.squeeze()\n",
    "                valid_correct_predictions += torch.sum(torch.abs(predicted - rating) < 0.5).item()\n",
    "                valid_total_predictions += rating.size(0)\n",
    "\n",
    "        valid_loss /= len(valid_loader)\n",
    "        valid_accuracy = (valid_correct_predictions / valid_total_predictions) * 100\n",
    "        \n",
    "        metrics[\"train_loss\"].append(train_loss)\n",
    "        metrics[\"valid_loss\"].append(valid_loss)\n",
    "        metrics[\"train_accuracy\"].append(train_accuracy)\n",
    "        metrics[\"valid_accuracy\"].append(valid_accuracy)\n",
    "        \n",
    "        history.append({\n",
    "            \"epoch\": epoch + 1,\n",
    "            \"train_loss\": train_loss,\n",
    "            \"valid_loss\": valid_loss,\n",
    "            \"train_accuracy\": train_accuracy,\n",
    "            \"valid_accuracy\": valid_accuracy\n",
    "        })\n",
    "        \n",
    "        plot(metrics)\n",
    "        \n",
    "        print(f\"Epoch [{epoch+1}/{num_epochs}], \"\n",
    "              f\"Train Loss: {train_loss:.4f}, Train Accuracy: {train_accuracy:.2f}%, \"\n",
    "              f\"Validation Loss: {valid_loss:.4f}, Validation Accuracy: {valid_accuracy:.2f}%\")\n",
    "        \n",
    "        if valid_loss < best_valid_loss:\n",
    "            best_valid_loss = valid_loss\n",
    "            torch.save(model.state_dict(), 'best_valid_model.pth') \n",
    "    \n",
    "    torch.save(model.state_dict(), 'model.pth') \n",
    "    model.load_state_dict(torch.load('model.pth'))\n",
    "    return model, history\n"
   ],
   "id": "1215ed1855db2235",
   "outputs": [],
   "execution_count": 171
  },
  {
   "metadata": {
    "ExecuteTime": {
     "end_time": "2025-02-02T10:25:30.663445Z",
     "start_time": "2025-02-02T10:25:30.659252Z"
    }
   },
   "cell_type": "code",
   "source": [
    "def evaluate(model, test_loader, device=\"cpu\"):\n",
    "    model.eval() \n",
    "    criterion = nn.MSELoss()\n",
    "    test_loss = 0.0\n",
    "    correct_predictions = 0\n",
    "    total_predictions = 0\n",
    "\n",
    "    with torch.no_grad():  \n",
    "        for user, book, rating in test_loader:\n",
    "            user, book, rating = user.to(device), book.to(device), rating.to(device)\n",
    "            output = model(user, book)\n",
    "            loss = criterion(output.squeeze(), rating)\n",
    "            test_loss += loss.item()\n",
    "\n",
    "            predicted = output.squeeze()\n",
    "            correct_predictions += torch.sum(torch.abs(predicted - rating) < 0.5).item() \n",
    "            total_predictions += rating.size(0)\n",
    "\n",
    "    avg_test_loss = test_loss / len(test_loader)\n",
    "    test_accuracy = (correct_predictions / total_predictions) * 100\n",
    "\n",
    "    print(f\"Test Loss: {avg_test_loss:.4f}, Test Accuracy: {test_accuracy:.2f}%\")\n",
    "    return avg_test_loss, test_accuracy"
   ],
   "id": "dd8efd8db1b2773a",
   "outputs": [],
   "execution_count": 172
  },
  {
   "metadata": {
    "ExecuteTime": {
     "end_time": "2025-02-02T10:25:31.433363Z",
     "start_time": "2025-02-02T10:25:31.321247Z"
    }
   },
   "cell_type": "code",
   "source": [
    "device = torch.device(\"cuda\" if torch.cuda.is_available() else \"cpu\")\n",
    "print(f\"Using device: {device}\")\n",
    "\n",
    "model = RecommenderModel(n_users, n_books, embedding_dim=64)\n",
    "model.to(device)\n",
    "optimizer = optim.Adam(model.parameters(), lr=0.001)\n",
    "scheduler = optim.lr_scheduler.StepLR(optimizer, step_size=10, gamma=0.01)"
   ],
   "id": "c54a5c10c1d6fe02",
   "outputs": [
    {
     "name": "stdout",
     "output_type": "stream",
     "text": [
      "Using device: cuda\n"
     ]
    }
   ],
   "execution_count": 173
  },
  {
   "metadata": {},
   "cell_type": "code",
   "source": "model, history = train(model, train_loader, test_loader, optimizer, scheduler, num_epochs=20, device=device)",
   "id": "5d88b70557a9916a",
   "execution_count": 174,
   "outputs": [
    {
     "data": {
      "text/plain": [
       "<Figure size 640x480 with 1 Axes>"
      ],
      "image/png": "[encoded data removed]"
     },
     "metadata": {},
     "output_type": "display_data"
    },
    {
     "data": {
      "text/plain": [
       "<Figure size 800x1000 with 2 Axes>"
      ],
      "image/png": "[encoded data removed]"
     },
     "metadata": {},
     "output_type": "display_data"
    },
    {
     "name": "stdout",
     "output_type": "stream",
     "text": [
      "Epoch [20/20], Train Loss: 7.3825, Train Accuracy: 34.02%, Validation Loss: 13.3707, Validation Accuracy: 22.18%\n"
     ]
    },
    {
     "name": "stderr",
     "output_type": "stream",
     "text": [
      "/tmp/ipykernel_3380/1143003353.py:75: FutureWarning: You are using `torch.load` with `weights_only=False` (the current default value), which uses the default pickle module implicitly. It is possible to construct malicious pickle data which will execute arbitrary code during unpickling (See https://github.com/pytorch/pytorch/blob/main/SECURITY.md#untrusted-models for more details). In a future release, the default value for `weights_only` will be flipped to `True`. This limits the functions that could be executed during unpickling. Arbitrary objects will no longer be allowed to be loaded via this mode unless they are explicitly allowlisted by the user via `torch.serialization.add_safe_globals`. We recommend you start setting `weights_only=True` for any use case where you don't have full control of the loaded file. Please open an issue on GitHub for any issues related to this experimental feature.\n",
      "  model.load_state_dict(torch.load('model2.pth'))\n"
     ]
    }
   ]
  },
  {
   "metadata": {
    "ExecuteTime": {
     "end_time": "2025-02-02T12:59:52.102925Z",
     "start_time": "2025-02-02T12:59:52.066787Z"
    }
   },
   "cell_type": "code",
   "source": "model.load_state_dict(torch.load('best_valid_model.pth'))",
   "id": "1168ad3d927effa0",
   "outputs": [
    {
     "name": "stderr",
     "output_type": "stream",
     "text": [
      "/tmp/ipykernel_3380/1044563062.py:1: FutureWarning: You are using `torch.load` with `weights_only=False` (the current default value), which uses the default pickle module implicitly. It is possible to construct malicious pickle data which will execute arbitrary code during unpickling (See https://github.com/pytorch/pytorch/blob/main/SECURITY.md#untrusted-models for more details). In a future release, the default value for `weights_only` will be flipped to `True`. This limits the functions that could be executed during unpickling. Arbitrary objects will no longer be allowed to be loaded via this mode unless they are explicitly allowlisted by the user via `torch.serialization.add_safe_globals`. We recommend you start setting `weights_only=True` for any use case where you don't have full control of the loaded file. Please open an issue on GitHub for any issues related to this experimental feature.\n",
      "  model.load_state_dict(torch.load('best_valid_model.pth'))\n"
     ]
    },
    {
     "data": {
      "text/plain": [
       "<All keys matched successfully>"
      ]
     },
     "execution_count": 209,
     "metadata": {},
     "output_type": "execute_result"
    }
   ],
   "execution_count": 209
  },
  {
   "metadata": {
    "ExecuteTime": {
     "end_time": "2025-02-02T12:59:56.156001Z",
     "start_time": "2025-02-02T12:59:54.044202Z"
    }
   },
   "cell_type": "code",
   "source": "evaluate(model, test_loader, device=device)",
   "id": "489d5d4732708c2e",
   "outputs": [
    {
     "name": "stdout",
     "output_type": "stream",
     "text": [
      "Test Loss: 12.9955, Test Accuracy: 30.37%\n"
     ]
    },
    {
     "data": {
      "text/plain": [
       "(12.995480806236491, 30.367360397230247)"
      ]
     },
     "execution_count": 210,
     "metadata": {},
     "output_type": "execute_result"
    }
   ],
   "execution_count": 210
  },
  {
   "metadata": {
    "ExecuteTime": {
     "end_time": "2025-02-02T12:59:58.159899Z",
     "start_time": "2025-02-02T12:59:58.157078Z"
    }
   },
   "cell_type": "code",
   "source": [
    "def recommend_books(model, user_id, n_recommendations=5, device=\"cpu\"):\n",
    "    model.eval()\n",
    "\n",
    "    user_tensor = torch.tensor([user_id], dtype=torch.long).to(device)\n",
    "    \n",
    "    with torch.no_grad():\n",
    "        book_ids = torch.arange(0, n_books, dtype=torch.int64).to(device)\n",
    "        ratings_pred = model(user_tensor.repeat(n_books), book_ids)\n",
    "\n",
    "    ratings_pred = ratings_pred.squeeze().cpu().numpy()\n",
    "\n",
    "    top_indices = ratings_pred.argsort()[-n_recommendations:][::-1] \n",
    "\n",
    "    top_ratings = ratings_pred[top_indices]\n",
    "\n",
    "    return top_indices.tolist(), top_ratings.tolist()\n"
   ],
   "id": "6eea15a5266bd0b6",
   "outputs": [],
   "execution_count": 211
  },
  {
   "metadata": {
    "ExecuteTime": {
     "end_time": "2025-02-02T13:05:11.298636Z",
     "start_time": "2025-02-02T13:05:11.265853Z"
    }
   },
   "cell_type": "code",
   "source": [
    "sample = books_with_rating_df.sample(1)\n",
    "user_id = sample['User-ID_code'].values[0]\n",
    "\n",
    "recommend_books_ids, book_ratings = recommend_books(model, user_id, n_recommendations=5, device=device)\n",
    "\n",
    "recommendations = []\n",
    "for rec_id in recommend_books_ids:\n",
    "    book_isbn = books_with_rating_df.loc[books_with_rating_df['ISBN_code'] == rec_id]['ISBN'].values[0]\n",
    "    book = books_df.loc[books_df['ISBN'] == book_isbn]\n",
    "    title = book['Book-Title'].values[0]\n",
    "    author = book['Book-Author'].values[0]\n",
    "    year_published = book['Year-Of-Publication'].values[0]\n",
    "\n",
    "    recommendations.append({\n",
    "        'title': title,\n",
    "        'author': author,\n",
    "        'year-Published': year_published\n",
    "    })\n",
    "\n",
    "print('-'*30)\n",
    "print(f\"Recommended books for user {user_id}:\")\n",
    "for idx, rec in enumerate(recommendations):\n",
    "    print(f\"Rank {idx + 1} with rating {book_ratings[idx]}: Title {rec['title']}, Author {rec['author']}, Year Published {rec['year-Published']}\")\n",
    "print('-'*30)"
   ],
   "id": "ce9dece906438f9d",
   "outputs": [
    {
     "ename": "RuntimeError",
     "evalue": "CUDA error: device-side assert triggered\nCUDA kernel errors might be asynchronously reported at some other API call, so the stacktrace below might be incorrect.\nFor debugging consider passing CUDA_LAUNCH_BLOCKING=1\nCompile with `TORCH_USE_CUDA_DSA` to enable device-side assertions.\n",
     "output_type": "error",
     "traceback": [
      "\u001B[0;31m---------------------------------------------------------------------------\u001B[0m",
      "\u001B[0;31mRuntimeError\u001B[0m                              Traceback (most recent call last)",
      "Cell \u001B[0;32mIn[250], line 4\u001B[0m\n\u001B[1;32m      1\u001B[0m sample \u001B[38;5;241m=\u001B[39m books_with_rating_df\u001B[38;5;241m.\u001B[39msample(\u001B[38;5;241m1\u001B[39m)\n\u001B[1;32m      2\u001B[0m user_id \u001B[38;5;241m=\u001B[39m sample[\u001B[38;5;124m'\u001B[39m\u001B[38;5;124mUser-ID_code\u001B[39m\u001B[38;5;124m'\u001B[39m]\u001B[38;5;241m.\u001B[39mvalues[\u001B[38;5;241m0\u001B[39m]\n\u001B[0;32m----> 4\u001B[0m recommend_books_ids, book_ratings \u001B[38;5;241m=\u001B[39m \u001B[43mrecommend_books\u001B[49m\u001B[43m(\u001B[49m\u001B[43mmodel\u001B[49m\u001B[43m,\u001B[49m\u001B[43m \u001B[49m\u001B[43muser_id\u001B[49m\u001B[43m,\u001B[49m\u001B[43m \u001B[49m\u001B[43mn_recommendations\u001B[49m\u001B[38;5;241;43m=\u001B[39;49m\u001B[38;5;241;43m5\u001B[39;49m\u001B[43m,\u001B[49m\u001B[43m \u001B[49m\u001B[43mdevice\u001B[49m\u001B[38;5;241;43m=\u001B[39;49m\u001B[43mdevice\u001B[49m\u001B[43m)\u001B[49m\n\u001B[1;32m      6\u001B[0m recommendations \u001B[38;5;241m=\u001B[39m []\n\u001B[1;32m      7\u001B[0m \u001B[38;5;28;01mfor\u001B[39;00m rec_id \u001B[38;5;129;01min\u001B[39;00m recommend_books_ids:\n",
      "Cell \u001B[0;32mIn[211], line 4\u001B[0m, in \u001B[0;36mrecommend_books\u001B[0;34m(model, user_id, n_recommendations, device)\u001B[0m\n\u001B[1;32m      1\u001B[0m \u001B[38;5;28;01mdef\u001B[39;00m \u001B[38;5;21mrecommend_books\u001B[39m(model, user_id, n_recommendations\u001B[38;5;241m=\u001B[39m\u001B[38;5;241m5\u001B[39m, device\u001B[38;5;241m=\u001B[39m\u001B[38;5;124m\"\u001B[39m\u001B[38;5;124mcpu\u001B[39m\u001B[38;5;124m\"\u001B[39m):\n\u001B[1;32m      2\u001B[0m     model\u001B[38;5;241m.\u001B[39meval()\n\u001B[0;32m----> 4\u001B[0m     user_tensor \u001B[38;5;241m=\u001B[39m \u001B[43mtorch\u001B[49m\u001B[38;5;241;43m.\u001B[39;49m\u001B[43mtensor\u001B[49m\u001B[43m(\u001B[49m\u001B[43m[\u001B[49m\u001B[43muser_id\u001B[49m\u001B[43m]\u001B[49m\u001B[43m,\u001B[49m\u001B[43m \u001B[49m\u001B[43mdtype\u001B[49m\u001B[38;5;241;43m=\u001B[39;49m\u001B[43mtorch\u001B[49m\u001B[38;5;241;43m.\u001B[39;49m\u001B[43mlong\u001B[49m\u001B[43m)\u001B[49m\u001B[38;5;241;43m.\u001B[39;49m\u001B[43mto\u001B[49m\u001B[43m(\u001B[49m\u001B[43mdevice\u001B[49m\u001B[43m)\u001B[49m\n\u001B[1;32m      6\u001B[0m     \u001B[38;5;28;01mwith\u001B[39;00m torch\u001B[38;5;241m.\u001B[39mno_grad():\n\u001B[1;32m      7\u001B[0m         book_ids \u001B[38;5;241m=\u001B[39m torch\u001B[38;5;241m.\u001B[39marange(\u001B[38;5;241m0\u001B[39m, n_books, dtype\u001B[38;5;241m=\u001B[39mtorch\u001B[38;5;241m.\u001B[39mint64)\u001B[38;5;241m.\u001B[39mto(device)\n",
      "\u001B[0;31mRuntimeError\u001B[0m: CUDA error: device-side assert triggered\nCUDA kernel errors might be asynchronously reported at some other API call, so the stacktrace below might be incorrect.\nFor debugging consider passing CUDA_LAUNCH_BLOCKING=1\nCompile with `TORCH_USE_CUDA_DSA` to enable device-side assertions.\n"
     ]
    }
   ],
   "execution_count": 250
  },
  {
   "metadata": {
    "ExecuteTime": {
     "end_time": "2025-02-02T09:25:30.402865Z",
     "start_time": "2025-02-02T09:25:30.401497Z"
    }
   },
   "cell_type": "code",
   "source": "",
   "id": "87b39f913aab40e0",
   "outputs": [],
   "execution_count": 33
  }
 ],
 "metadata": {
  "kernelspec": {
   "display_name": "torchenv",
   "language": "python",
   "name": "torchenv"
  },
  "language_info": {
   "codemirror_mode": {
    "name": "ipython",
    "version": 2
   },
   "file_extension": ".py",
   "mimetype": "text/x-python",
   "name": "python",
   "nbconvert_exporter": "python",
   "pygments_lexer": "ipython2",
   "version": "2.7.6"
  }
 },
 "nbformat": 4,
 "nbformat_minor": 5
}
